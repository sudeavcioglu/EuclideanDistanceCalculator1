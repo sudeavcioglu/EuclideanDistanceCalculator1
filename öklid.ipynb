{
 "cells": [
  {
   "cell_type": "code",
   "execution_count": 2,
   "id": "dfce46a6",
   "metadata": {},
   "outputs": [
    {
     "name": "stdout",
     "output_type": "stream",
     "text": [
      "En küçük mesafe: 1.0\n"
     ]
    }
   ],
   "source": [
    "import math\n",
    "\n",
    "# Öklid mesafesini hesaplayan fonksiyon\n",
    "def euclideanDistance(point1, point2):\n",
    "    return math.sqrt((point2[0] - point1[0])**2 + (point2[1] - point1[1])**2)\n",
    "\n",
    "# 2D uzaydaki noktaların listesi\n",
    "points = [(2, 3), (4, 7), (2, 9), (6, 2), (2, 8)]\n",
    "\n",
    "# Nokta çiftleri arasındaki mesafelerin listesi\n",
    "distances = []\n",
    "\n",
    "# Her nokta çifti arasındaki mesafeyi hesaplayıp distances listesine ekleyen döngü\n",
    "for i in range(len(points)):\n",
    "    for j in range(i + 1, len(points)):\n",
    "        distances.append(euclideanDistance(points[i], points[j]))\n",
    "\n",
    "# Minimum mesafenin bulunması\n",
    "min_distance = min(distances)\n",
    "\n",
    "print(\"En küçük mesafe:\", min_distance)\n",
    "\n"
   ]
  },
  {
   "cell_type": "code",
   "execution_count": null,
   "id": "3408dfa9",
   "metadata": {},
   "outputs": [],
   "source": []
  }
 ],
 "metadata": {
  "kernelspec": {
   "display_name": "Python 3",
   "language": "python",
   "name": "python3"
  },
  "language_info": {
   "codemirror_mode": {
    "name": "ipython",
    "version": 3
   },
   "file_extension": ".py",
   "mimetype": "text/x-python",
   "name": "python",
   "nbconvert_exporter": "python",
   "pygments_lexer": "ipython3",
   "version": "3.8.8"
  }
 },
 "nbformat": 4,
 "nbformat_minor": 5
}
